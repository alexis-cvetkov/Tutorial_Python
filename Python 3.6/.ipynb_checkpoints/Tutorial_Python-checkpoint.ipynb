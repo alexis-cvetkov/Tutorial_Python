{
 "cells": [
  {
   "cell_type": "markdown",
   "metadata": {},
   "source": [
    "# <center> Introduction to Python </center>\n",
    "\n",
    "# 1. Built-in Types\n",
    "\n",
    "Objects in Python are categorized by types. The principal built-in types are numerics, sequences.\n",
    "\n",
    "A more complete documentation can be found here: https://docs.python.org/3/library/stdtypes.html\n",
    "\n",
    "## 1.1 Numerics:\n",
    "\n",
    "- **int** -> integers\n",
    "- **float** ->  floating point numbers (like decimal numbers)\n",
    "- **complex** -> complex numbers"
   ]
  },
  {
   "cell_type": "code",
   "execution_count": 1,
   "metadata": {},
   "outputs": [
    {
     "data": {
      "text/plain": [
       "int"
      ]
     },
     "execution_count": 1,
     "metadata": {},
     "output_type": "execute_result"
    }
   ],
   "source": [
    "x = 1 # Define an integer\n",
    "type(x) # Return the type of x -> int"
   ]
  },
  {
   "cell_type": "code",
   "execution_count": 2,
   "metadata": {},
   "outputs": [
    {
     "data": {
      "text/plain": [
       "float"
      ]
     },
     "execution_count": 2,
     "metadata": {},
     "output_type": "execute_result"
    }
   ],
   "source": [
    "x = 1.0 # Define a floating point number\n",
    "type(x) # Type of x is float"
   ]
  },
  {
   "cell_type": "code",
   "execution_count": 3,
   "metadata": {},
   "outputs": [
    {
     "data": {
      "text/plain": [
       "complex"
      ]
     },
     "execution_count": 3,
     "metadata": {},
     "output_type": "execute_result"
    }
   ],
   "source": [
    "x = 1 + 0j # Define a complex number, where 1j is the imaginary unit\n",
    "type(x) # Type of x is complex"
   ]
  },
  {
   "cell_type": "markdown",
   "metadata": {},
   "source": [
    "These types support the following operations:\n",
    "\n",
    "- ``x + y`` -> sum\n",
    "- ``x - y`` -> difference\n",
    "- ``x * y`` -> product\n",
    "- ``x / y`` -> quotient\n",
    "- ``x // y`` -> floored quotient\n",
    "- ``x % y`` -> remainder\n",
    "- ``x ** y`` -> x to the power y\n",
    "- ``abs(x)`` -> absolute value\n",
    "- ``int(x)`` -> return the closest integer smaller than x\n",
    "\n",
    "### Example"
   ]
  },
  {
   "cell_type": "code",
   "execution_count": 4,
   "metadata": {},
   "outputs": [
    {
     "name": "stdout",
     "output_type": "stream",
     "text": [
      "x/y = 2.5\n",
      "x//y = 2\n",
      "x%y = 1\n",
      "int(3.7) = 3\n"
     ]
    }
   ],
   "source": [
    "x = 5\n",
    "y = 2\n",
    "\n",
    "z = x/y # Quotient\n",
    "print(f'x/y = {z}') # Print the value of z -> 2.5\n",
    "\n",
    "z = x//y # Floored quotient\n",
    "print(f'x//y = {z}')\n",
    "\n",
    "z = x%y # Remainder\n",
    "print(f'x%y = {z}')\n",
    "\n",
    "z = int(3.7)\n",
    "print(f'int(3.7) = {z}')"
   ]
  },
  {
   "cell_type": "markdown",
   "metadata": {},
   "source": [
    "## 1.2 Booleans:\n",
    "\n",
    "- **bool** -> boolean variables indicate the truth of a statement and take the value `True` or `False`.\n",
    "\n",
    "**Boolean operations**:\n",
    "\n",
    "- `x or y` is `True` if `x = True` or `y = True`, `False` otherwise\n",
    "- `x and y` is `True` if `x = True` and `y = True`, `False` otherwise\n",
    "- `not x` is `True` if `x = False`, `False` otherwise\n",
    "\n",
    "**Comparisons:**\n",
    "\n",
    "You can use the following symbols to compare objects of the same type:\n",
    "\n",
    "<img src=\"../images/list_comparisons.png\" style=\"width: 350px;\"/>\n",
    "\n",
    "<br></br>\n",
    "<center> Comparison operations. Source: https://docs.python.org/3/library/stdtypes.html#comparisons </center>"
   ]
  },
  {
   "cell_type": "code",
   "execution_count": 5,
   "metadata": {},
   "outputs": [
    {
     "name": "stdout",
     "output_type": "stream",
     "text": [
      "x = True\n",
      "y = False\n",
      "x or y = True\n",
      "x and y = False\n"
     ]
    }
   ],
   "source": [
    "x = (1 < 2)\n",
    "print(f'x = {x}')\n",
    "\n",
    "y = (1 == 2)\n",
    "print(f'y = {y}')\n",
    "\n",
    "print(f'x or y = {x or y}')\n",
    "print(f'x and y = {x and y}')"
   ]
  },
  {
   "cell_type": "markdown",
   "metadata": {},
   "source": [
    "## 1.3 Sequences:\n",
    "\n",
    "Sequences are used to store and manipulate collections of items. The most common sequence types are:\n",
    "\n",
    "- **str** -> strings, collections of characters\n",
    "\n",
    "- **list** -> mutable (modifiable) collection of items\n",
    "- **tuple** -> unmutable collection of items\n",
    "- **range** -> unmutable collection of integers\n",
    "\n",
    "### How to create a new sequence\n",
    "\n",
    "- **str** -> write text between single `'`, double `\"` or triple `\"\"\"` quotes."
   ]
  },
  {
   "cell_type": "code",
   "execution_count": 6,
   "metadata": {},
   "outputs": [
    {
     "name": "stdout",
     "output_type": "stream",
     "text": [
      "str_1 = abcdef\n",
      "str_2 = Lorem ipsum 'dolor' sit amet\n",
      "str_3 = 'Line 1.\\nLine 2.'\n"
     ]
    }
   ],
   "source": [
    "str_1 = 'abcdef'\n",
    "print(f'str_1 = {str_1}')\n",
    "\n",
    "str_2 = \"Lorem ipsum 'dolor' sit amet\"\n",
    "print(f'str_2 = {str_2}')\n",
    "\n",
    "# Multiline string using triple quotes\n",
    "str_3 = \"\"\"Line 1.\n",
    "Line 2.\"\"\"\n",
    "\n",
    "print(f'str_3 = {repr(str_3)}')"
   ]
  },
  {
   "cell_type": "markdown",
   "metadata": {},
   "source": [
    "- **list** -> items are separated by comas `,` and between square brackets `[]`."
   ]
  },
  {
   "cell_type": "code",
   "execution_count": 7,
   "metadata": {},
   "outputs": [
    {
     "name": "stdout",
     "output_type": "stream",
     "text": [
      "list_1 = [1, 3, 5, 7]\n",
      "list_2 = ['I', 'love', 'Python']\n",
      "list_3 = ['a', 1, ['I', 'love', 'Python']]\n"
     ]
    }
   ],
   "source": [
    "list_1 = [1, 3, 5, 7] # Create a list containing the numbers 1, 3, 5 and 7\n",
    "print(f'list_1 = {list_1}')\n",
    "\n",
    "list_2 = ['I', 'love', 'Python']\n",
    "print(f'list_2 = {list_2}')\n",
    "\n",
    "list_3 = ['a', 1, list_2] # Lists can contain objects of different types\n",
    "print(f'list_3 = {list_3}')"
   ]
  },
  {
   "cell_type": "markdown",
   "metadata": {},
   "source": [
    "- **tuple** -> items are separated by comas `,` and between parenthesis `()`."
   ]
  },
  {
   "cell_type": "code",
   "execution_count": 8,
   "metadata": {},
   "outputs": [],
   "source": [
    "tuple_1 = (1, 3, 5, 7) # Create a tuple containing the numbers 1, 3, 5 and 7"
   ]
  },
  {
   "cell_type": "markdown",
   "metadata": {},
   "source": [
    "- **range** -> call the function `range(start,end,step)` to create the sequence of integers `start, start+step, ..., end +/-1`.\n",
    "\n",
    "Default start = 0 and step = 1. "
   ]
  },
  {
   "cell_type": "code",
   "execution_count": 9,
   "metadata": {},
   "outputs": [
    {
     "name": "stdout",
     "output_type": "stream",
     "text": [
      "range(10) -> [0, 1, 2, 3, 4, 5, 6, 7, 8, 9]\n",
      "range(3,9) -> [3, 4, 5, 6, 7, 8]\n",
      "range(2,10,2) -> [2, 4, 6, 8]\n",
      "range(1,-5,-1) -> [1, 0, -1, -2, -3, -4]\n"
     ]
    }
   ],
   "source": [
    "seq = range(10)\n",
    "print(f'range(10) -> {list(seq)}') # Call the function list to convert any sequence to a list\n",
    "\n",
    "seq = range(3,9)\n",
    "print(f'range(3,9) -> {list(seq)}')\n",
    "\n",
    "seq = range(2,10,2)\n",
    "print(f'range(2,10,2) -> {list(seq)}')\n",
    "\n",
    "seq = range(1,-5,-1)\n",
    "print(f'range(1,-5,-1) -> {list(seq)}')"
   ]
  },
  {
   "cell_type": "markdown",
   "metadata": {},
   "source": [
    "### Read the value of an element of a sequence\n",
    "\n",
    "Each element of a sequence is represented by an index (its position in the sequence). The first item is associated to the index 0, the the second item is associated to 1, and so on...\n",
    "\n",
    "To read the value of the i-th element of a sequence, type `sequence[i]`.\n",
    "\n",
    "*Note: In Python indices start at 0. The first element of a sequence is thus represented by the index 0. Negative indices can be used to start the indexing from the end of the sequence*"
   ]
  },
  {
   "cell_type": "code",
   "execution_count": 10,
   "metadata": {},
   "outputs": [
    {
     "name": "stdout",
     "output_type": "stream",
     "text": [
      "x = 1\n",
      "x = f\n"
     ]
    }
   ],
   "source": [
    "# Create a new list and string\n",
    "L = [1,3,5,7]\n",
    "s = \"abcdef\"\n",
    "\n",
    "# Read the first element of L\n",
    "x = L[0]\n",
    "print(f'x = {x}')\n",
    "\n",
    "# Read the last element of s\n",
    "x = s[-1]\n",
    "print(f'x = {x}')"
   ]
  },
  {
   "cell_type": "markdown",
   "metadata": {},
   "source": [
    "You can also read subsets of a sequence (this operation is known as **slicling**).\n",
    "\n",
    "Type `sequence[i:j]` to slice the sequence from the i-th to the j-th element.\n",
    "\n",
    "Type `sequence[i:j:k]` to slice the sequence from the i-th to the j-th element with step k.\n",
    "\n",
    "Note: \n",
    "- When slicing a sequence the last element of the subset is always excluded.\n",
    "- If the start / end of the slice is not given, the slice will be performed from the beginning / to the end of the sequence."
   ]
  },
  {
   "cell_type": "code",
   "execution_count": 11,
   "metadata": {},
   "outputs": [
    {
     "name": "stdout",
     "output_type": "stream",
     "text": [
      "x = (3, 5)\n",
      "x = def\n",
      "x = abc\n"
     ]
    }
   ],
   "source": [
    "# Create a new tuple and string\n",
    "L = (1,3,5,7,9)\n",
    "s = \"abcdef\"\n",
    "\n",
    "# Read a subset of L\n",
    "x = L[1:3] # L[3] is excluded from x\n",
    "print(f'x = {x}')\n",
    "\n",
    "x = s[3:6] # Read whole string starting from index 3\n",
    "print(f'x = {x}')\n",
    "\n",
    "x = s[0:3] # Read whole string ending index 3 (excluded)\n",
    "print(f'x = {x}')"
   ]
  },
  {
   "cell_type": "markdown",
   "metadata": {},
   "source": [
    "### Standard operations on sequences\n",
    "\n",
    "Below are listed many other commands for sequence manipulation:\n",
    "\n",
    "<img src=\"../images/commands_sequences.png\" style=\"width: 700px;\"/>\n",
    "\n",
    "<br></br>\n",
    "<center> Summary of common sequence commands. Source: https://docs.python.org/3/library/stdtypes.html </center>"
   ]
  },
  {
   "cell_type": "code",
   "execution_count": 12,
   "metadata": {},
   "outputs": [
    {
     "name": "stdout",
     "output_type": "stream",
     "text": [
      "True\n",
      "False\n"
     ]
    }
   ],
   "source": [
    "# Check if a string contains a specific substring\n",
    "s = \"abc def\"\n",
    "print(\"abc d\" in s)\n",
    "print(\"abcd\" in s)"
   ]
  },
  {
   "cell_type": "code",
   "execution_count": 13,
   "metadata": {},
   "outputs": [
    {
     "name": "stdout",
     "output_type": "stream",
     "text": [
      "True\n",
      "False\n"
     ]
    }
   ],
   "source": [
    "# Check if a list contains a specific item\n",
    "L = [1, 3, 5, 7]\n",
    "print(3 in L)\n",
    "print(0 in L)"
   ]
  },
  {
   "cell_type": "code",
   "execution_count": 14,
   "metadata": {},
   "outputs": [
    {
     "name": "stdout",
     "output_type": "stream",
     "text": [
      "s = 'abcdef'\n",
      "L = [1, 3, 5, 7, 1, 3, 5, 7]\n"
     ]
    }
   ],
   "source": [
    "# Concatenation\n",
    "s = 'abc' + 'def'\n",
    "print(f's = {repr(s)}')\n",
    "L = [1, 3, 5, 7] * 2\n",
    "print(f'L = {L}')"
   ]
  },
  {
   "cell_type": "code",
   "execution_count": 15,
   "metadata": {},
   "outputs": [
    {
     "name": "stdout",
     "output_type": "stream",
     "text": [
      "Length = 8, min = 1, max = 7\n"
     ]
    }
   ],
   "source": [
    "# Length, min, max value of L\n",
    "n = len(L)\n",
    "M = max(L)\n",
    "m = min(L)\n",
    "print(f'Length = {n}, min = {m}, max = {M}')"
   ]
  },
  {
   "cell_type": "code",
   "execution_count": 16,
   "metadata": {
    "scrolled": true
   },
   "outputs": [
    {
     "name": "stdout",
     "output_type": "stream",
     "text": [
      "1\n",
      "5\n"
     ]
    }
   ],
   "source": [
    "# Find first occurence of 3\n",
    "idx = L.index(3)\n",
    "print(idx)\n",
    "\n",
    "# Find first occurence of 3 starting from the 3rd element of x\n",
    "idx = L.index(3,3)\n",
    "print(idx)"
   ]
  },
  {
   "cell_type": "markdown",
   "metadata": {},
   "source": [
    "### Commands specific to strings"
   ]
  },
  {
   "cell_type": "code",
   "execution_count": 17,
   "metadata": {},
   "outputs": [
    {
     "name": "stdout",
     "output_type": "stream",
     "text": [
      "s2 = Lurem ipsum dulur sit amet\n"
     ]
    }
   ],
   "source": [
    "# Replace parts of a string\n",
    "s = \"Lorem ipsum dolor sit amet\"\n",
    "s2 = s.replace('o','u') # The 'o' in s are replaced by 'u'\n",
    "print(f's2 = {s2}')"
   ]
  },
  {
   "cell_type": "code",
   "execution_count": 18,
   "metadata": {},
   "outputs": [
    {
     "name": "stdout",
     "output_type": "stream",
     "text": [
      "['Lorem', 'ipsum', 'dolor', 'sit', 'amet']\n"
     ]
    }
   ],
   "source": [
    "# Split a string\n",
    "L = s.split(' ')\n",
    "print(L)"
   ]
  },
  {
   "cell_type": "code",
   "execution_count": 19,
   "metadata": {},
   "outputs": [
    {
     "name": "stdout",
     "output_type": "stream",
     "text": [
      "3 + 2 = 5\n"
     ]
    }
   ],
   "source": [
    "# Insert variables in a string\n",
    "a, b = 3, 2 # Multiple assignment\n",
    "c = a + b\n",
    "s = f\"{a} + {b} = {c}\" # Python 3.6\n",
    "s2 = \"{} + {} = {}\".format(a,b,c) # Python 3\n",
    "print(s)"
   ]
  },
  {
   "cell_type": "code",
   "execution_count": 20,
   "metadata": {},
   "outputs": [
    {
     "name": "stdout",
     "output_type": "stream",
     "text": [
      "3.141592653589793\n",
      "pi_2d = 3.1\n",
      "pi_4d = 3.142\n"
     ]
    }
   ],
   "source": [
    "# Set the number of digits when printing a float\n",
    "pi = 3.141592653589793\n",
    "print(pi)\n",
    "\n",
    "pi_2d = f'{pi:.2}' # pi with 2 digits = 3.1\n",
    "pi_4d = f'{pi:.4}' # pi with 4 digits = 3.142 (rounded)\n",
    "\n",
    "print(f\"pi_2d = {pi_2d}\")\n",
    "print(f\"pi_4d = {pi_4d}\")"
   ]
  },
  {
   "cell_type": "markdown",
   "metadata": {},
   "source": [
    "More details on https://docs.python.org/3/library/stdtypes.html#string-methods\n",
    "and https://pyformat.info/ (for documentation about string formatting)."
   ]
  },
  {
   "cell_type": "markdown",
   "metadata": {},
   "source": [
    "### Commands specific to lists\n",
    "\n",
    "Lists can be modified whereas tuples and range cannot. Below is a list of common operations that can be used on any mutable (modifiable) sequence.\n",
    "\n",
    "<img src=\"../images/commands_mutable_seq.png\" style=\"width: 700px;\"/>\n",
    "\n",
    "<br></br>\n",
    "<center> Figure 3 : List of common operations supported by lists. Source: https://docs.python.org/3/library/stdtypes.html </center>"
   ]
  },
  {
   "cell_type": "code",
   "execution_count": 21,
   "metadata": {},
   "outputs": [
    {
     "name": "stdout",
     "output_type": "stream",
     "text": [
      "L = [1, 3, 5, 7]\n",
      "L2 = [1, 3, 5, 7]\n"
     ]
    }
   ],
   "source": [
    "# Copy a list\n",
    "L = [1,3,5,7]\n",
    "print(f'L = {L}')\n",
    "L1 = L\n",
    "L2 = L.copy()\n",
    "print(f'L2 = {L2}')"
   ]
  },
  {
   "cell_type": "code",
   "execution_count": 22,
   "metadata": {},
   "outputs": [
    {
     "name": "stdout",
     "output_type": "stream",
     "text": [
      "L = [1, 3, 0, 7]\n"
     ]
    }
   ],
   "source": [
    "# Replace the item of index = 2 by 0\n",
    "L[2] = 0\n",
    "print(f'L = {L}')"
   ]
  },
  {
   "cell_type": "code",
   "execution_count": 23,
   "metadata": {},
   "outputs": [
    {
     "name": "stdout",
     "output_type": "stream",
     "text": [
      "L = [1, 0, 7]\n"
     ]
    }
   ],
   "source": [
    "# Remove the first occurence of 3 from the list\n",
    "L.remove(3)\n",
    "print(f'L = {L}')"
   ]
  },
  {
   "cell_type": "code",
   "execution_count": 24,
   "metadata": {},
   "outputs": [
    {
     "name": "stdout",
     "output_type": "stream",
     "text": [
      "x = 0 , L = [1, 7]\n"
     ]
    }
   ],
   "source": [
    "# Read and delete the item of index = 1\n",
    "x = L.pop(1)\n",
    "print(f'x = {x} , L = {L}')"
   ]
  },
  {
   "cell_type": "code",
   "execution_count": 25,
   "metadata": {},
   "outputs": [
    {
     "name": "stdout",
     "output_type": "stream",
     "text": [
      "L = [1, 7, 3]\n"
     ]
    }
   ],
   "source": [
    "# Add 3 at the end of the list\n",
    "L.append(3)\n",
    "print(f'L = {L}')"
   ]
  },
  {
   "cell_type": "code",
   "execution_count": 26,
   "metadata": {
    "scrolled": true
   },
   "outputs": [
    {
     "name": "stdout",
     "output_type": "stream",
     "text": [
      "L = [1, 7, 4, 3], L1 = [1, 7, 4, 3] and L2 = [1, 3, 5, 7]\n"
     ]
    }
   ],
   "source": [
    "L.insert(2,4) # Insert 4 at the position of index = 2 in the list\n",
    "\n",
    "# Print L, L1 and L2\n",
    "print(f\"L = {L}, L1 = {L1} and L2 = {L2}\")"
   ]
  },
  {
   "cell_type": "markdown",
   "metadata": {},
   "source": [
    "## 1.4 Dictionaries\n",
    "\n",
    "Dictionaries (type **dict**) are a way to associate **keys** (generally strings) and **values**.\n",
    "\n",
    "### How to create a Python dictionary\n",
    "\n",
    "In this example we use a dictionary to store data about a person.\n",
    "\n",
    "First we initialize an empty dictionary (named `person`) with the command `person = {}`.\n",
    "\n",
    "We then add new items in the dictionary by providing the corresponding key and value: `person[key] = value`, where key is a string.\n",
    "\n",
    "Here we store the name, age and nationality of a person in our dictionary:"
   ]
  },
  {
   "cell_type": "code",
   "execution_count": 27,
   "metadata": {},
   "outputs": [
    {
     "name": "stdout",
     "output_type": "stream",
     "text": [
      "person = {'name': 'Jean', 'age': 30, 'nationality': 'French'}\n"
     ]
    }
   ],
   "source": [
    "# Initialize empty dictionary\n",
    "person = {}\n",
    "\n",
    "# Set name, age and nationality\n",
    "person['name'] = 'Jean'\n",
    "person['age'] = 30\n",
    "person['nationality'] = 'French'\n",
    "print(f'person = {person}')"
   ]
  },
  {
   "cell_type": "code",
   "execution_count": 28,
   "metadata": {},
   "outputs": [
    {
     "name": "stdout",
     "output_type": "stream",
     "text": [
      "name = Jean, age = 30, nationality = French\n"
     ]
    }
   ],
   "source": [
    "# Get name, age and nationality\n",
    "name = person['name']\n",
    "age = person['age']\n",
    "nationality = person['nationality']\n",
    "print(f'name = {name}, age = {age}, nationality = {nationality}')"
   ]
  },
  {
   "cell_type": "markdown",
   "metadata": {},
   "source": [
    "Note that we can also initialize a dictionary with (key,value) couples:"
   ]
  },
  {
   "cell_type": "code",
   "execution_count": 29,
   "metadata": {},
   "outputs": [
    {
     "name": "stdout",
     "output_type": "stream",
     "text": [
      "person = {'name': 'Jean', 'age': 30, 'nationality': 'French'}\n"
     ]
    }
   ],
   "source": [
    "person = {'name': 'Jean', 'age': 30, 'nationality': 'French'}\n",
    "print(f'person = {person}')"
   ]
  },
  {
   "cell_type": "markdown",
   "metadata": {},
   "source": [
    "### Commun operations on dictionaries"
   ]
  },
  {
   "cell_type": "code",
   "execution_count": 30,
   "metadata": {},
   "outputs": [
    {
     "name": "stdout",
     "output_type": "stream",
     "text": [
      "person = {'name': 'Jean', 'age': 30, 'nationality': 'French'}\n"
     ]
    }
   ],
   "source": [
    "# Make a copy\n",
    "person = {'name': 'Jean', 'age': 30, 'nationality': 'French'}\n",
    "person_copy = person.copy()\n",
    "print(f'person = {person}')"
   ]
  },
  {
   "cell_type": "code",
   "execution_count": 31,
   "metadata": {},
   "outputs": [
    {
     "name": "stdout",
     "output_type": "stream",
     "text": [
      "keys = dict_keys(['name', 'age', 'nationality'])\n",
      "values = dict_values(['Jean', 30, 'French'])\n",
      "items = dict_items([('name', 'Jean'), ('age', 30), ('nationality', 'French')])\n"
     ]
    }
   ],
   "source": [
    "# Get dynamic view objects for the keys and values of the dictionary\n",
    "keys = person.keys()\n",
    "values = person.values()\n",
    "items = person.items()\n",
    "print(f'keys = {keys}')\n",
    "print(f'values = {values}')\n",
    "print(f'items = {items}')"
   ]
  },
  {
   "cell_type": "code",
   "execution_count": 32,
   "metadata": {},
   "outputs": [
    {
     "name": "stdout",
     "output_type": "stream",
     "text": [
      "person = {'name': 'Pierre', 'age': 30, 'nationality': 'French', 'city': 'Paris'}\n"
     ]
    }
   ],
   "source": [
    "# Add / Change an item\n",
    "person['city'] = 'Paris'\n",
    "person['name'] = 'Pierre'\n",
    "print(f'person = {person}')"
   ]
  },
  {
   "cell_type": "code",
   "execution_count": 33,
   "metadata": {},
   "outputs": [
    {
     "name": "stdout",
     "output_type": "stream",
     "text": [
      "person = {'name': 'Pierre', 'age': 30, 'city': 'Paris'}\n"
     ]
    }
   ],
   "source": [
    "# Delete / Pop items\n",
    "del person['nationality']\n",
    "print(f'person = {person}')"
   ]
  },
  {
   "cell_type": "code",
   "execution_count": 34,
   "metadata": {},
   "outputs": [
    {
     "name": "stdout",
     "output_type": "stream",
     "text": [
      "age = 30, person = {'name': 'Pierre', 'city': 'Paris'}\n"
     ]
    }
   ],
   "source": [
    "age = person.pop('age')\n",
    "print(f'age = {age}, person = {person}')"
   ]
  },
  {
   "cell_type": "code",
   "execution_count": 35,
   "metadata": {
    "scrolled": true
   },
   "outputs": [
    {
     "name": "stdout",
     "output_type": "stream",
     "text": [
      "keys = dict_keys(['name', 'city'])\n",
      "values = dict_values(['Pierre', 'Paris'])\n",
      "items = dict_items([('name', 'Pierre'), ('city', 'Paris')])\n"
     ]
    }
   ],
   "source": [
    "# keys, values and items are dynamically linked to the dictionary\n",
    "print(f'keys = {keys}')\n",
    "print(f'values = {values}')\n",
    "print(f'items = {items}')"
   ]
  },
  {
   "cell_type": "markdown",
   "metadata": {},
   "source": [
    "## 1.5 Type conversions\n",
    "\n",
    "You can call the functions `int`,`float`,`complex`,`str`,`list`,`tuple`,`dict` on a variable with type1 to generate the \"equivalent\" variable in type2."
   ]
  },
  {
   "cell_type": "code",
   "execution_count": 36,
   "metadata": {},
   "outputs": [
    {
     "name": "stdout",
     "output_type": "stream",
     "text": [
      "a = 3.8, b = 3, c = 3.0\n"
     ]
    }
   ],
   "source": [
    "# Float to int\n",
    "a = 3.8\n",
    "b = int(a)\n",
    "c = float(b)\n",
    "print(f'a = {a}, b = {b}, c = {c}')"
   ]
  },
  {
   "cell_type": "code",
   "execution_count": 37,
   "metadata": {},
   "outputs": [
    {
     "name": "stdout",
     "output_type": "stream",
     "text": [
      "a = 3.8, s = '3.8', b = 3.8\n"
     ]
    }
   ],
   "source": [
    "# Float to string / String to float\n",
    "a = 3.8\n",
    "s = str(a) # = '3.8'\n",
    "b = float(s) # = 3.8\n",
    "print(f'a = {a}, s = {repr(s)}, b = {b}')"
   ]
  },
  {
   "cell_type": "code",
   "execution_count": 38,
   "metadata": {},
   "outputs": [
    {
     "name": "stdout",
     "output_type": "stream",
     "text": [
      "s = 'abc_def', L = ['a', 'b', 'c', '_', 'd', 'e', 'f'], T = ('a', 'b', 'c', '_', 'd', 'e', 'f')\n"
     ]
    }
   ],
   "source": [
    "# String to list / List to tuple\n",
    "s = 'abc_def'\n",
    "L = list(s)\n",
    "T = tuple(L)\n",
    "print(f's = {repr(s)}, L = {L}, T = {T}')"
   ]
  },
  {
   "cell_type": "code",
   "execution_count": 39,
   "metadata": {},
   "outputs": [
    {
     "name": "stdout",
     "output_type": "stream",
     "text": [
      "D = {'name': 'Jean', 'age': 30}\n"
     ]
    }
   ],
   "source": [
    "# List / Tuple to dict\n",
    "L = [('name','Jean'), ('age',30)]\n",
    "D = dict(L)\n",
    "print(f'D = {D}')"
   ]
  },
  {
   "cell_type": "markdown",
   "metadata": {},
   "source": [
    "# 2. Python syntax\n",
    "\n",
    "## 2.1 Conditionnal statements\n",
    "\n",
    "Conditionnal statements are used to perform different commands whether a statement if `True` or `False`.\n",
    "They can be implemented using the keywords `if`, `elif` and `else`."
   ]
  },
  {
   "cell_type": "code",
   "execution_count": 40,
   "metadata": {},
   "outputs": [
    {
     "name": "stdout",
     "output_type": "stream",
     "text": [
      "a if greater than 1\n"
     ]
    }
   ],
   "source": [
    "# If statement\n",
    "a = 2\n",
    "\n",
    "if a > 1: # This condition is True so we perform the commands inside the statement\n",
    "    print('a if greater than 1') # Note the indentation\n",
    "\n",
    "if a != 2: # This condition is False so we print nothing\n",
    "    print('a is not equal to 2')"
   ]
  },
  {
   "cell_type": "code",
   "execution_count": 41,
   "metadata": {},
   "outputs": [
    {
     "name": "stdout",
     "output_type": "stream",
     "text": [
      "a is not equal to 1\n"
     ]
    }
   ],
   "source": [
    "# If - Else statement\n",
    "a = 2\n",
    "\n",
    "if a == 1: # If a = 1 then print a is equal to 1'\n",
    "    print('a is equal to 1')\n",
    "\n",
    "else: # If the if statement above is False then print 'a is not equal to 1'\n",
    "    print('a is not equal to 1')"
   ]
  },
  {
   "cell_type": "code",
   "execution_count": 42,
   "metadata": {},
   "outputs": [
    {
     "name": "stdout",
     "output_type": "stream",
     "text": [
      "a is equal to 2\n"
     ]
    }
   ],
   "source": [
    "# If - Elif - Else statement\n",
    "a = 2\n",
    "\n",
    "if a == 1: # If a = 1 then print a is equal to 1'\n",
    "    print('a is equal to 1')\n",
    "\n",
    "elif a == 2: # If the first if statement is false and the elif statement is True\n",
    "    print('a is equal to 2')\n",
    "    \n",
    "else: # If all the statements above are false then print('a is not equal to 1 or 2')\n",
    "    print('a is not equal to 1 or 2')"
   ]
  },
  {
   "cell_type": "markdown",
   "metadata": {},
   "source": [
    "## 2.1 For and while loops\n",
    "\n",
    "Loops are useful to perform iteratively a sequence of operations. You can implement loops with the keywords `for` and `while`.\n",
    "\n",
    "- A \"for\" loop will iterate over a given sequence . At each iteration, several commands are performed."
   ]
  },
  {
   "cell_type": "code",
   "execution_count": 43,
   "metadata": {},
   "outputs": [
    {
     "name": "stdout",
     "output_type": "stream",
     "text": [
      "s = 16\n"
     ]
    }
   ],
   "source": [
    "# \"For\" loops\n",
    "\n",
    "L = [1,3,5,7]\n",
    "s = 0\n",
    "\n",
    "for x in L: # Iterate over the items in L\n",
    "    s = s + x # Sum the elements of L\n",
    "    \n",
    "print(f's = {s}')"
   ]
  },
  {
   "cell_type": "code",
   "execution_count": 44,
   "metadata": {},
   "outputs": [
    {
     "name": "stdout",
     "output_type": "stream",
     "text": [
      "L = [2, 6, 10, 14]\n"
     ]
    }
   ],
   "source": [
    "L = [1,3,5,7]\n",
    "n = len(L)\n",
    "\n",
    "for k in range(n): # Iterate over the indices of L (i.e 0,1,...,n-1)\n",
    "    L[k] = L[k] * 2\n",
    "    \n",
    "print(f'L = {L}')"
   ]
  },
  {
   "cell_type": "code",
   "execution_count": 45,
   "metadata": {},
   "outputs": [
    {
     "name": "stdout",
     "output_type": "stream",
     "text": [
      "name Jean\n",
      "age 30\n",
      "nationality French\n"
     ]
    }
   ],
   "source": [
    "D = person = {'name': 'Jean', 'age': 30, 'nationality': 'French'}\n",
    "\n",
    "for key in D.keys():\n",
    "    value = D[key]\n",
    "    print(key,value)"
   ]
  },
  {
   "cell_type": "markdown",
   "metadata": {},
   "source": [
    "- A \"while\" loop will perform operations while a statement is True."
   ]
  },
  {
   "cell_type": "code",
   "execution_count": 46,
   "metadata": {},
   "outputs": [
    {
     "name": "stdout",
     "output_type": "stream",
     "text": [
      "0\n",
      "1\n",
      "2\n",
      "3\n",
      "4\n"
     ]
    }
   ],
   "source": [
    "# \"While\" loops\n",
    "\n",
    "k = 0\n",
    "while k < 5:\n",
    "    print(k)\n",
    "    k += 1 # k = k + 1"
   ]
  },
  {
   "cell_type": "code",
   "execution_count": 47,
   "metadata": {
    "scrolled": false
   },
   "outputs": [
    {
     "name": "stdout",
     "output_type": "stream",
     "text": [
      "16\n"
     ]
    }
   ],
   "source": [
    "L = [1,3,5,7]\n",
    "s = 0\n",
    "while L != []:\n",
    "    s += L.pop()\n",
    "print(s)"
   ]
  },
  {
   "cell_type": "markdown",
   "metadata": {},
   "source": [
    "## 2.3 Functions\n",
    "\n",
    "### Basic structure\n",
    "\n",
    "Functions allows you to encapsulate a sequence of operations that you want to apply on different objects.\n",
    "To define a function, use the following syntax:\n",
    "\n",
    "```python\n",
    "def name_of_the_function(param1,param2,...):\n",
    "\n",
    "    do something\n",
    "        .\n",
    "        .\n",
    "        .\n",
    "    do something\n",
    "    \n",
    "    return y\n",
    "```\n",
    "\n",
    "- `param1` and `param2` are the parameters of the function, i.e the input objects that will be processed by the function.\n",
    "- `y` is the output of the function. A function may return nothing."
   ]
  },
  {
   "cell_type": "code",
   "execution_count": 48,
   "metadata": {},
   "outputs": [
    {
     "name": "stdout",
     "output_type": "stream",
     "text": [
      "a\n",
      "1\n"
     ]
    }
   ],
   "source": [
    "# Function that prints the first element of a sequence and returns nothing\n",
    "\n",
    "def print_first_elmt(seq):\n",
    "    x = seq[0]\n",
    "    print(x)\n",
    "    return\n",
    "    \n",
    "s1 = 'abc'\n",
    "s2 = [1,2,3]\n",
    "print_first_elmt(s1)\n",
    "print_first_elmt(s2)"
   ]
  },
  {
   "cell_type": "code",
   "execution_count": 49,
   "metadata": {},
   "outputs": [
    {
     "name": "stdout",
     "output_type": "stream",
     "text": [
      "15\n"
     ]
    }
   ],
   "source": [
    "# Function that returns the sum of a list\n",
    "\n",
    "def sum_list(L):\n",
    "    n = len(L)\n",
    "    s = 0\n",
    "    for x in L:\n",
    "        s += x\n",
    "    return s\n",
    "\n",
    "L = [1,2,3,4,5]\n",
    "s = sum_list(L)\n",
    "print(s)"
   ]
  },
  {
   "cell_type": "markdown",
   "metadata": {},
   "source": [
    "### Keyword arguments\n",
    "\n",
    "You can also use keyword arguments in your functions. Keyword arguments are optionnal parameters that are set with a default value when not given.\n",
    "\n",
    "```python\n",
    "def name_of_the_function(param1, param2, param3=1, param4='Default'):\n",
    "\n",
    "    do something\n",
    "        .\n",
    "        .\n",
    "        .\n",
    "    do something\n",
    "    \n",
    "    return y\n",
    "```"
   ]
  },
  {
   "cell_type": "code",
   "execution_count": 50,
   "metadata": {},
   "outputs": [
    {
     "name": "stdout",
     "output_type": "stream",
     "text": [
      "a\n",
      "Sequence is empty\n"
     ]
    }
   ],
   "source": [
    "# Function that prints the first element of a sequence if not empty\n",
    "\n",
    "def print_first_elmt(seq=[]):\n",
    "    \n",
    "    if seq != []:\n",
    "        x = seq[0]\n",
    "        print(x)\n",
    "    else:\n",
    "        print('Sequence is empty')\n",
    "    return\n",
    "    \n",
    "s1 = 'abc'\n",
    "print_first_elmt(seq=s1) # Here seq = 'abc'\n",
    "print_first_elmt() # Here seq = []"
   ]
  },
  {
   "cell_type": "markdown",
   "metadata": {},
   "source": [
    "### *args and **kwargs\n",
    "\n",
    "Functions that take as input an undetermined number of parameters can be implemented with the `*args` and `**kwargs` keywords:\n",
    "\n",
    "```python\n",
    "def name_of_the_function(*args,**kwargs):\n",
    "\n",
    "    do something\n",
    "        .\n",
    "        .\n",
    "        .\n",
    "    do something\n",
    "    \n",
    "    return y\n",
    "```\n",
    "\n",
    "Inside the function the variable `args` / `kwargs` can be used as a tuple / dictionary."
   ]
  },
  {
   "cell_type": "code",
   "execution_count": 51,
   "metadata": {},
   "outputs": [
    {
     "name": "stdout",
     "output_type": "stream",
     "text": [
      "('a', 1, 'b')\n",
      "('param1', 'param2')\n"
     ]
    }
   ],
   "source": [
    "# Example *args\n",
    "\n",
    "def print_params(*args): # Here args is a tuple containing the parameters given when calling the function\n",
    "    print(args)\n",
    "    return\n",
    "\n",
    "print_params('a',1,'b')\n",
    "print_params('param1','param2')"
   ]
  },
  {
   "cell_type": "code",
   "execution_count": 52,
   "metadata": {
    "scrolled": false
   },
   "outputs": [
    {
     "name": "stdout",
     "output_type": "stream",
     "text": [
      "{'name': 'Jean', 'age': 30}\n",
      "{'name': 'Pierre', 'age': 20, 'nationality': 'French'}\n"
     ]
    }
   ],
   "source": [
    "# Example **kwargs\n",
    "\n",
    "def print_dict(**kwargs):\n",
    "    print(kwargs)\n",
    "    return\n",
    "\n",
    "print_dict(name='Jean', age=30)\n",
    "print_dict(name='Pierre', age=20, nationality='French')"
   ]
  },
  {
   "cell_type": "markdown",
   "metadata": {},
   "source": [
    "## 2.4 Local and global variables\n",
    "\n",
    "In Python, a variable declared outside of a function or in global scope is known as **global variable**. This means that a global variable can be accessed inside or outside of the function.\n",
    "\n",
    "A variable declared inside a function is known as **local variable**. It exists only in the function's body.\n",
    "\n",
    "When calling a function, its parameters (global variables) are copied and stored in local variables inside the function.\n",
    "Any modification of these local variables will thus not be reflected by the global variables. The only exceptions are sequences and dictionaries.\n",
    "\n",
    "To change a global variable inside a function, use the `global` keyword.\n",
    "\n",
    "Reference: https://www.programiz.com/python-programming/global-local-nonlocal-variables"
   ]
  },
  {
   "cell_type": "code",
   "execution_count": 53,
   "metadata": {},
   "outputs": [
    {
     "name": "stdout",
     "output_type": "stream",
     "text": [
      "Inside function: a = 3\n",
      "Outside function: a = 2\n"
     ]
    }
   ],
   "source": [
    "a = 2 # Global variable\n",
    "\n",
    "def increment(a):\n",
    "    a = a + 1 # Here the local variable a is a copy of the parameter a\n",
    "    print(f'Inside function: a = {a}')\n",
    "    return\n",
    "    \n",
    "increment(a)\n",
    "print(f'Outside function: a = {a}')"
   ]
  },
  {
   "cell_type": "code",
   "execution_count": 54,
   "metadata": {},
   "outputs": [
    {
     "name": "stdout",
     "output_type": "stream",
     "text": [
      "Inside function: a = 3\n",
      "Outside function: a = 3\n"
     ]
    }
   ],
   "source": [
    "a = 2 # Global variable\n",
    "\n",
    "def increment():\n",
    "    global a # The local variable a is linked to the global variable a\n",
    "    a = a + 1 \n",
    "    print(f'Inside function: a = {a}')\n",
    "    return\n",
    "    \n",
    "increment() # Now a = 3\n",
    "print(f'Outside function: a = {a}')"
   ]
  },
  {
   "cell_type": "code",
   "execution_count": 55,
   "metadata": {},
   "outputs": [
    {
     "name": "stdout",
     "output_type": "stream",
     "text": [
      "L = [10, 2, 4, 8]\n",
      "D = {'name': 'Jean', 'age': 20, 'nationality': 'French'}\n"
     ]
    }
   ],
   "source": [
    "# Exception: global lists and dictionaries can be modified inside functions with indexing\n",
    "\n",
    "L = [1,2,4,8]\n",
    "D = {'name': 'Pierre', 'age': 20, 'nationality': 'French'}\n",
    "\n",
    "def change_item(x,index,new_value):\n",
    "    x[index] = new_value\n",
    "    return\n",
    "\n",
    "change_item(L,0,10)\n",
    "print(f'L = {L}')\n",
    "\n",
    "change_item(D,'name','Jean')\n",
    "print(f'D = {D}')"
   ]
  },
  {
   "cell_type": "markdown",
   "metadata": {},
   "source": [
    "### Exercise:\n",
    "\n",
    "Write a function `replace_negative(L,value)` which replace every negative number in the list `L` by `value`.\n",
    "\n",
    "**Example:**"
   ]
  },
  {
   "cell_type": "code",
   "execution_count": 56,
   "metadata": {},
   "outputs": [
    {
     "ename": "NameError",
     "evalue": "name 'replace_negative' is not defined",
     "output_type": "error",
     "traceback": [
      "\u001b[0;31m---------------------------------------------------------------------------\u001b[0m",
      "\u001b[0;31mNameError\u001b[0m                                 Traceback (most recent call last)",
      "\u001b[0;32m<ipython-input-56-168ac50a5d6e>\u001b[0m in \u001b[0;36m<module>\u001b[0;34m()\u001b[0m\n\u001b[1;32m      1\u001b[0m \u001b[0mL_input\u001b[0m \u001b[0;34m=\u001b[0m \u001b[0;34m[\u001b[0m\u001b[0;36m1\u001b[0m\u001b[0;34m,\u001b[0m \u001b[0;36m2\u001b[0m\u001b[0;34m,\u001b[0m \u001b[0;34m-\u001b[0m\u001b[0;36m3\u001b[0m\u001b[0;34m,\u001b[0m \u001b[0;36m6\u001b[0m\u001b[0;34m,\u001b[0m \u001b[0;34m-\u001b[0m\u001b[0;36m1\u001b[0m\u001b[0;34m]\u001b[0m\u001b[0;34m\u001b[0m\u001b[0m\n\u001b[1;32m      2\u001b[0m \u001b[0;34m\u001b[0m\u001b[0m\n\u001b[0;32m----> 3\u001b[0;31m \u001b[0mL_output\u001b[0m \u001b[0;34m=\u001b[0m \u001b[0mreplace_negative\u001b[0m\u001b[0;34m(\u001b[0m\u001b[0mL_input\u001b[0m\u001b[0;34m,\u001b[0m\u001b[0;36m0\u001b[0m\u001b[0;34m)\u001b[0m \u001b[0;31m# L_output = [1, 2, 0, 6, 0]\u001b[0m\u001b[0;34m\u001b[0m\u001b[0m\n\u001b[0m",
      "\u001b[0;31mNameError\u001b[0m: name 'replace_negative' is not defined"
     ]
    }
   ],
   "source": [
    "L_input = [1, 2, -3, 6, -1]\n",
    "\n",
    "L_output = replace_negative(L_input,0) # L_output = [1, 2, 0, 6, 0]"
   ]
  }
 ],
 "metadata": {
  "kernelspec": {
   "display_name": "Python 3",
   "language": "python",
   "name": "python3"
  },
  "language_info": {
   "codemirror_mode": {
    "name": "ipython",
    "version": 3
   },
   "file_extension": ".py",
   "mimetype": "text/x-python",
   "name": "python",
   "nbconvert_exporter": "python",
   "pygments_lexer": "ipython3",
   "version": "3.6.5"
  }
 },
 "nbformat": 4,
 "nbformat_minor": 2
}
