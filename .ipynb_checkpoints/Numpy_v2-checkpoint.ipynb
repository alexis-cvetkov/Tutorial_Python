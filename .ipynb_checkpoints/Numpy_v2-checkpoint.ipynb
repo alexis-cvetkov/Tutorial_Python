{
 "cells": [
  {
   "cell_type": "markdown",
   "metadata": {},
   "source": [
    "# <center> Packages for scientific computing with Python </center>"
   ]
  },
  {
   "cell_type": "markdown",
   "metadata": {},
   "source": [
    "# 0. Import Python libraries "
   ]
  },
  {
   "cell_type": "markdown",
   "metadata": {},
   "source": [
    "A library is an ensemble of Python files containing functions that you can import to use.\n",
    "\n",
    "Use the command `import` to import a library. When you do so, Python looks for the corresponding package in a list of several repertories (also known as the *PYTHONPATH*). If you want to import local files, you may need to add the path to the folder that contains these files to the *PYTHONPATH*.\n",
    "\n",
    "For instance, we can import the file **package_example.py** from the folder **Formation_Python/data/**."
   ]
  },
  {
   "cell_type": "code",
   "execution_count": 2,
   "metadata": {},
   "outputs": [],
   "source": [
    "import sys\n",
    "sys.path.append('./data/') # Add this path to the PYTHONPATH\n",
    "\n",
    "import package_example"
   ]
  },
  {
   "cell_type": "markdown",
   "metadata": {},
   "source": [
    "This package contains only one function `increment_list(x)` which increment each value of `x`. You can use it by calling `package_example.increment_list`."
   ]
  },
  {
   "cell_type": "code",
   "execution_count": 3,
   "metadata": {},
   "outputs": [
    {
     "name": "stdout",
     "output_type": "stream",
     "text": [
      "x = [1, 2, 3, 4]\n"
     ]
    }
   ],
   "source": [
    "x = [0,1,2,3]\n",
    "package_example.increment_list(x)\n",
    "print('x = {}'.format(x))"
   ]
  },
  {
   "cell_type": "markdown",
   "metadata": {},
   "source": [
    "You can select the functions that you import from a package:"
   ]
  },
  {
   "cell_type": "code",
   "execution_count": 4,
   "metadata": {},
   "outputs": [
    {
     "name": "stdout",
     "output_type": "stream",
     "text": [
      "x = [1, 2, 3, 4]\n"
     ]
    }
   ],
   "source": [
    "from package_example import increment_list\n",
    "\n",
    "x = [0,1,2,3]\n",
    "increment_list(x) # You don't need to type the name of the package to call increment_list\n",
    "print('x = {}'.format(x))"
   ]
  },
  {
   "cell_type": "markdown",
   "metadata": {},
   "source": [
    "You may also use an **alias** to refer to the imported library:"
   ]
  },
  {
   "cell_type": "code",
   "execution_count": 5,
   "metadata": {},
   "outputs": [
    {
     "name": "stdout",
     "output_type": "stream",
     "text": [
      "x = [1, 2, 3, 4]\n"
     ]
    }
   ],
   "source": [
    "import package_example as pck_ex\n",
    "\n",
    "x = [0,1,2,3]\n",
    "pck_ex.increment_list(x) # You can replace the name of the package by its alias to call increment_list\n",
    "print('x = {}'.format(x))"
   ]
  },
  {
   "cell_type": "markdown",
   "metadata": {},
   "source": [
    "# 1. Numpy\n",
    "\n",
    "Reference: https://docs.scipy.org/doc/numpy/user/quickstart.html\n",
    "\n",
    "### The basics\n",
    "\n",
    "Numpy provudes a framework for the manipulation of n-dimensional objects such as vectors, matrices, tensors; where all the data have the same type. These objects are called **ndarray** and are (like sequences) indexed by a tuple of positive integers.\n",
    "\n",
    "See below an example of a 2-dimensional array."
   ]
  },
  {
   "cell_type": "code",
   "execution_count": 6,
   "metadata": {},
   "outputs": [
    {
     "name": "stdout",
     "output_type": "stream",
     "text": [
      "[[0. 0. 0. 0. 0.]\n",
      " [0. 0. 0. 0. 0.]\n",
      " [0. 0. 0. 0. 0.]]\n"
     ]
    },
    {
     "data": {
      "text/plain": [
       "numpy.ndarray"
      ]
     },
     "execution_count": 6,
     "metadata": {},
     "output_type": "execute_result"
    }
   ],
   "source": [
    "import numpy as np\n",
    "\n",
    "# Creation of a 2D array (3x5 matrix) filled with zeros\n",
    "M = np.zeros((3,5))\n",
    "print(M)\n",
    "type(M)"
   ]
  },
  {
   "cell_type": "markdown",
   "metadata": {},
   "source": [
    "The main attributes of a numpy ndarray are:"
   ]
  },
  {
   "cell_type": "code",
   "execution_count": 7,
   "metadata": {},
   "outputs": [
    {
     "name": "stdout",
     "output_type": "stream",
     "text": [
      "Number of axis (dimensions) = 2\n",
      "Dimensions = (size along 1st axis, 2nd axis) = (3, 5)\n",
      "Number of elements = 15\n",
      "Data type = float64\n"
     ]
    }
   ],
   "source": [
    "# Number of dimensions\n",
    "ndim = M.ndim\n",
    "print('Number of axis (dimensions) = {}'.format(ndim))\n",
    "\n",
    "# Shape\n",
    "shape = M.shape\n",
    "print('Dimensions = (size along 1st axis, 2nd axis) = {}'.format(shape))\n",
    "\n",
    "# Size\n",
    "size = M.size\n",
    "print('Number of elements = {}'.format(size))\n",
    "\n",
    "# Data type\n",
    "dtype = M.dtype\n",
    "print('Data type = {}'.format(dtype))"
   ]
  },
  {
   "cell_type": "markdown",
   "metadata": {},
   "source": [
    "### Array creation"
   ]
  },
  {
   "cell_type": "markdown",
   "metadata": {},
   "source": [
    "There are several ways to create a numpy array:\n",
    "\n",
    "- From a Python list or tuple by using the `array` function\n",
    "- Using other numpy functions to generate arrays of a given shape"
   ]
  },
  {
   "cell_type": "code",
   "execution_count": 8,
   "metadata": {},
   "outputs": [
    {
     "name": "stdout",
     "output_type": "stream",
     "text": [
      "[1 2 3 4]\n",
      "[[1 2 3]\n",
      " [4 5 6]]\n"
     ]
    }
   ],
   "source": [
    "# Create array from Python lists / tuples\n",
    "L = [1,2,3,4]\n",
    "arr = np.array(L)\n",
    "print(arr)\n",
    "\n",
    "L1, L2 = [1,2,3], [4,5,6]\n",
    "arr = np.array((L1,L2))\n",
    "print(arr)"
   ]
  },
  {
   "cell_type": "markdown",
   "metadata": {},
   "source": [
    "A common error is to call `array` with multiple numbers instead of a sequence of numbers."
   ]
  },
  {
   "cell_type": "code",
   "execution_count": 9,
   "metadata": {},
   "outputs": [
    {
     "ename": "ValueError",
     "evalue": "only 2 non-keyword arguments accepted",
     "output_type": "error",
     "traceback": [
      "\u001b[0;31m---------------------------------------------------------------------------\u001b[0m",
      "\u001b[0;31mValueError\u001b[0m                                Traceback (most recent call last)",
      "\u001b[0;32m<ipython-input-9-7e29555acdd4>\u001b[0m in \u001b[0;36m<module>\u001b[0;34m()\u001b[0m\n\u001b[0;32m----> 1\u001b[0;31m \u001b[0ma\u001b[0m \u001b[0;34m=\u001b[0m \u001b[0mnp\u001b[0m\u001b[0;34m.\u001b[0m\u001b[0marray\u001b[0m\u001b[0;34m(\u001b[0m\u001b[0;36m1\u001b[0m\u001b[0;34m,\u001b[0m\u001b[0;36m2\u001b[0m\u001b[0;34m,\u001b[0m\u001b[0;36m3\u001b[0m\u001b[0;34m,\u001b[0m\u001b[0;36m4\u001b[0m\u001b[0;34m)\u001b[0m \u001b[0;31m# WRONG\u001b[0m\u001b[0;34m\u001b[0m\u001b[0m\n\u001b[0m\u001b[1;32m      2\u001b[0m \u001b[0mb\u001b[0m \u001b[0;34m=\u001b[0m \u001b[0mnp\u001b[0m\u001b[0;34m.\u001b[0m\u001b[0marray\u001b[0m\u001b[0;34m(\u001b[0m\u001b[0;34m[\u001b[0m\u001b[0;36m1\u001b[0m\u001b[0;34m,\u001b[0m\u001b[0;36m2\u001b[0m\u001b[0;34m,\u001b[0m\u001b[0;36m3\u001b[0m\u001b[0;34m,\u001b[0m\u001b[0;36m4\u001b[0m\u001b[0;34m]\u001b[0m\u001b[0;34m)\u001b[0m \u001b[0;31m# RIGHT\u001b[0m\u001b[0;34m\u001b[0m\u001b[0m\n",
      "\u001b[0;31mValueError\u001b[0m: only 2 non-keyword arguments accepted"
     ]
    }
   ],
   "source": [
    "a = np.array(1,2,3,4) # WRONG\n",
    "b = np.array([1,2,3,4]) # RIGHT"
   ]
  },
  {
   "cell_type": "markdown",
   "metadata": {},
   "source": [
    "There exists a lot of numpy functions to create arrays:\n",
    "\n",
    "- `zeros(shape)` creates an array full of 0 and with a given shape.\n",
    "- `ones(shape)` creates an array full of 1 and with a given shape.\n",
    "- `arange(start,end,step)` is the equivalent of `range(start,end,step)` for arrays.\n",
    "- `np.linspace(start,end,n_points)` creates a 1d-array sampling the interval \\[`start`, `end`\\] with `n_points`\n",
    "- `random.rand(d0,d1,...)` creates an array of shape (d0,d1,...) filled with random samples from a uniform \\[0,1\\] distribution.\n",
    "- `random.randn(d0,d1,...)` creates an array of shape (d0,d1,...) filled with random samples from a gaussian distribution of mean = 0 and variance = 1.\n",
    "- `zeros_like(array)` creates an array full of 0 whose shape is the same as `array`."
   ]
  },
  {
   "cell_type": "code",
   "execution_count": 10,
   "metadata": {},
   "outputs": [
    {
     "name": "stdout",
     "output_type": "stream",
     "text": [
      "\n",
      "# --- np.ones\n",
      "\n",
      "[[1. 1.]\n",
      " [1. 1.]\n",
      " [1. 1.]\n",
      " [1. 1.]\n",
      " [1. 1.]]\n",
      "\n",
      "# --- np.arange\n",
      "\n",
      "[1 3 5 7 9]\n",
      "\n",
      "# --- np.linspace\n",
      "\n",
      "[-1.  -0.9 -0.8 -0.7 -0.6 -0.5 -0.4 -0.3 -0.2 -0.1  0.   0.1  0.2  0.3\n",
      "  0.4  0.5  0.6  0.7  0.8  0.9  1. ]\n",
      "\n",
      "# --- np.random.rand\n",
      "\n",
      "[[0.44836373 0.151347   0.20196018]\n",
      " [0.26347704 0.98426026 0.78384079]\n",
      " [0.21368187 0.62020568 0.03314288]]\n",
      "\n",
      "# --- np.random.randn\n",
      "\n",
      "[[-1.61917282  0.57107844]\n",
      " [ 0.98640793  0.79717573]\n",
      " [ 1.15641042  0.47399846]\n",
      " [ 1.24078429  0.41277266]]\n"
     ]
    }
   ],
   "source": [
    "# np.ones\n",
    "print('\\n# --- np.ones\\n')\n",
    "shape = (5,2)\n",
    "x = np.ones(shape)\n",
    "print(x)\n",
    "\n",
    "# np.arange\n",
    "print('\\n# --- np.arange\\n')\n",
    "x = np.arange(1,10,2)\n",
    "print(x)\n",
    "\n",
    "# np.linspace\n",
    "print('\\n# --- np.linspace\\n')\n",
    "x = np.linspace(-1,1,21)\n",
    "print(x)\n",
    "\n",
    "# np.random.rand\n",
    "print('\\n# --- np.random.rand\\n')\n",
    "x = np.random.rand(3,3)\n",
    "print(x)\n",
    "\n",
    "# np.random.randn\n",
    "print('\\n# --- np.random.randn\\n')\n",
    "x = np.random.randn(4,2)\n",
    "print(x)"
   ]
  },
  {
   "cell_type": "markdown",
   "metadata": {},
   "source": [
    "### Basic operations"
   ]
  },
  {
   "cell_type": "markdown",
   "metadata": {},
   "source": [
    "Arithmetic operations on arrays apply *elementwise*."
   ]
  },
  {
   "cell_type": "code",
   "execution_count": 11,
   "metadata": {},
   "outputs": [
    {
     "name": "stdout",
     "output_type": "stream",
     "text": [
      "[1 3 6 5]\n",
      "[ 1  4  9 16]\n",
      "[False False  True  True]\n"
     ]
    }
   ],
   "source": [
    "# Addition\n",
    "a = np.array([1,2,3,4])\n",
    "b = np.array([0,1,3,1])\n",
    "c = a + b\n",
    "print(c)\n",
    "\n",
    "# Power\n",
    "c = a ** 2\n",
    "print(c)\n",
    "\n",
    "# Boolean statements\n",
    "c = a > 2\n",
    "print(c)"
   ]
  },
  {
   "cell_type": "markdown",
   "metadata": {},
   "source": [
    "Within Numpy, the `*` operator operates element, column or row-wise according the the shape of the arrays. To perform a matricial product, use `A @ B` or `A.dot(B)`."
   ]
  },
  {
   "cell_type": "code",
   "execution_count": 12,
   "metadata": {},
   "outputs": [
    {
     "name": "stdout",
     "output_type": "stream",
     "text": [
      "\n",
      "# --- Element-wise product\n",
      "\n",
      "a = \n",
      "[1 2 3 4]\n",
      "\n",
      "b = \n",
      "[0 1 3 1]\n",
      "\n",
      "c = a*b = \n",
      "[0 2 9 4]\n",
      "\n",
      "\n",
      "# --- Column-wise product\n",
      "\n",
      "A = \n",
      "[[1 2]\n",
      " [3 4]]\n",
      "\n",
      "b = \n",
      "[1 2]\n",
      "\n",
      "C = A*b \n",
      "[[1 4]\n",
      " [3 8]]\n",
      "\n",
      "\n",
      "# --- Row-wise product\n",
      "\n",
      "A = \n",
      "[[1 2]\n",
      " [3 4]]\n",
      "\n",
      "b = \n",
      "[[1]\n",
      " [2]]\n",
      "\n",
      "C = A*b \n",
      "[[1 2]\n",
      " [6 8]]\n",
      "\n",
      "\n",
      "# --- Matricial product\n",
      "\n",
      "A = \n",
      "[[1 2]\n",
      " [3 4]]\n",
      "\n",
      "b = \n",
      "[[1]\n",
      " [2]]\n",
      "\n",
      "c = A.dot() = \n",
      "[[1]\n",
      " [2]]\n",
      "\n"
     ]
    }
   ],
   "source": [
    "# Element-wise product\n",
    "print('\\n# --- Element-wise product\\n')\n",
    "a = np.array([1,2,3,4])\n",
    "print('a = \\n{}\\n'.format(a))\n",
    "b = np.array([0,1,3,1])\n",
    "print('b = \\n{}\\n'.format(b))\n",
    "c = a * b\n",
    "print('c = a*b = \\n{}\\n'.format(c))\n",
    "\n",
    "# Column-wise product\n",
    "print('\\n# --- Column-wise product\\n')\n",
    "A = np.array([[1,2],[3,4]])\n",
    "print('A = \\n{}\\n'.format(A))\n",
    "b = np.array([1,2])\n",
    "print('b = \\n{}\\n'.format(b))\n",
    "C = A*b\n",
    "print('C = A*b \\n{}\\n'.format(C))\n",
    "\n",
    "# Row-wise product\n",
    "print('\\n# --- Row-wise product\\n')\n",
    "print('A = \\n{}\\n'.format(A))\n",
    "b = np.array([[1],[2]])\n",
    "print('b = \\n{}\\n'.format(b))\n",
    "C = A*b\n",
    "print('C = A*b \\n{}\\n'.format(C))\n",
    "\n",
    "# Matricial product\n",
    "print('\\n# --- Matricial product\\n')\n",
    "print('A = \\n{}\\n'.format(A))\n",
    "print('b = \\n{}\\n'.format(b))\n",
    "c = A.dot(b)\n",
    "c = A @ b\n",
    "print('c = A.dot() = \\n{}\\n'.format(b,c))"
   ]
  },
  {
   "cell_type": "markdown",
   "metadata": {},
   "source": [
    "Many useful numpy functions can perform operations on all the elements of an array, or along a specified axis (dimension). This is done by setting the `axis` parameter when calling these functions.\n",
    "\n",
    "**Example: calculate the sum of an array**"
   ]
  },
  {
   "cell_type": "code",
   "execution_count": 14,
   "metadata": {},
   "outputs": [
    {
     "name": "stdout",
     "output_type": "stream",
     "text": [
      "A = \n",
      "[[1 2 3]\n",
      " [4 5 6]\n",
      " [7 8 9]]\n",
      "\n",
      "Sum over the whole array\n",
      "s = 45\n",
      "\n",
      "Sum along the 0-axis (rows)\n",
      "s = \n",
      "[12 15 18]\n",
      "\n",
      "Sum along the 1-axis (columns)\n",
      "s = \n",
      "[ 6 15 24]\n",
      "\n"
     ]
    }
   ],
   "source": [
    "A = np.array([[1,2,3],[4,5,6],[7,8,9]])\n",
    "print('A = \\n{}\\n'.format(A))\n",
    "\n",
    "# Sum of all the elements\n",
    "print('Sum over the whole array')\n",
    "\n",
    "s = np.sum(A)\n",
    "print('s = {}\\n'.format(s))\n",
    "\n",
    "# Sum along the rows\n",
    "print('Sum along the 0-axis (rows)')\n",
    "s = np.sum(A,axis=0)\n",
    "print('s = \\n{}\\n'.format(s))\n",
    "\n",
    "# Sum along the columns\n",
    "print('Sum along the 1-axis (columns)')\n",
    "s = np.sum(A,axis=1)\n",
    "print('s = \\n{}\\n'.format(s))"
   ]
  },
  {
   "cell_type": "markdown",
   "metadata": {},
   "source": [
    "Here is a list of numpy functions that works similarly:\n",
    "\n",
    "- Mathematical functions: `exp`, `sin`, ...\n",
    "- Statistics: `min`,`max`,`mean` (average), `std` (standard deviation), `median`\n",
    "- `argmin`, `argmax` and `argsort` returns the indices of the minima, maxima, and of the sorted array\n",
    "- `where`"
   ]
  },
  {
   "cell_type": "code",
   "execution_count": 17,
   "metadata": {},
   "outputs": [
    {
     "name": "stdout",
     "output_type": "stream",
     "text": [
      "\n",
      "# --- Exponential\n",
      "\n",
      "a = [0 1 2]\n",
      "b = [1.         2.71828183 7.3890561 ]\n",
      "\n",
      "# --- Maxima along the columns\n",
      "\n",
      "A = \n",
      "[[1 2 3]\n",
      " [4 5 6]\n",
      " [7 8 9]]\n",
      "\n",
      "b = [7 8 9]\n",
      "\n",
      "# --- Maxima indices along the rows\n",
      "\n",
      "A = \n",
      "[[1 4 3]\n",
      " [2 5 6]\n",
      " [7 1 3]]\n",
      "\n",
      "b = [1 2 0]\n"
     ]
    }
   ],
   "source": [
    "# Exponential\n",
    "print('\\n# --- Exponential\\n')\n",
    "a = np.arange(0,3)\n",
    "print('a = {}'.format(a))\n",
    "b = np.exp(a)\n",
    "print('b = {}'.format(b))\n",
    "\n",
    "# Maxima of an array\n",
    "print('\\n# --- Maxima along the columns\\n')\n",
    "A = np.array([[1,2,3],[4,5,6],[7,8,9]])\n",
    "b = np.max(A,axis=0)\n",
    "print('A = \\n{}\\n'.format(A))\n",
    "print('b = {}'.format(b))\n",
    "\n",
    "# Maxima indices\n",
    "print('\\n# --- Maxima indices along the rows\\n')\n",
    "A = np.array([[1,4,3],[2,5,6],[7,1,3]])\n",
    "b = np.argmax(A,axis=1)\n",
    "print('A = \\n{}\\n'.format(A))\n",
    "print('b = {}'.format(b))"
   ]
  },
  {
   "cell_type": "markdown",
   "metadata": {},
   "source": [
    "### Array indexing, slicing, iterating and assigning"
   ]
  },
  {
   "cell_type": "markdown",
   "metadata": {},
   "source": [
    "Array indexing in Numpy is similar to sequence indexing in Python. For 2D arrays, use `A[i1,i2]` to read the item at the i1-th row and i2-th column of the array. This syntax can be used for any multi-dimensional array: `A[i1,i2,i3,...]`."
   ]
  },
  {
   "cell_type": "code",
   "execution_count": 19,
   "metadata": {},
   "outputs": [
    {
     "name": "stdout",
     "output_type": "stream",
     "text": [
      "A = [1 3 5 7 9]\n",
      "A[1] = 3\n",
      "A[0::2] = [1 5 9]\n"
     ]
    }
   ],
   "source": [
    "# --- 1D array\n",
    "\n",
    "A = np.array([1,3,5,7,9])\n",
    "\n",
    "# Array indexing\n",
    "x = A[1]\n",
    "print('A = {}'.format(A))\n",
    "print('A[1] = {}'.format(x))\n",
    "\n",
    "# Array slicing\n",
    "x = A[0:5:2] # A[start:end:step]\n",
    "print('A[0::2] = {}'.format(x))"
   ]
  },
  {
   "cell_type": "code",
   "execution_count": 21,
   "metadata": {
    "scrolled": false
   },
   "outputs": [
    {
     "name": "stdout",
     "output_type": "stream",
     "text": [
      "A = \n",
      "[[1 2 3]\n",
      " [4 5 6]\n",
      " [7 8 9]]\n",
      "\n",
      "# --- Indexing\n",
      "\n",
      "A[-1,2] = 9\n",
      "\n",
      "# --- Slicing \n",
      "\n",
      "S = \n",
      "[[1 2]\n",
      " [7 8]]\n",
      "\n",
      "# --- Specific case of slicing: row / column extraction \n",
      "\n",
      "r = [4 5 6]\n",
      "c = [2 5 8]\n",
      "\n",
      "# --- Assigning values to an array \n",
      "\n",
      "A = \n",
      "[[1 2 3]\n",
      " [4 5 0]\n",
      " [7 8 9]]\n",
      "\n",
      "A = \n",
      "[[0 0 3]\n",
      " [4 5 6]\n",
      " [0 0 9]]\n",
      "\n",
      "# --- Iteration over the array rows \n",
      "\n",
      "[0 0 3]\n",
      "[4 5 6]\n",
      "[0 0 9]\n"
     ]
    }
   ],
   "source": [
    "# --- 2D array\n",
    "\n",
    "A = np.array([[1,2,3],[4,5,6],[7,8,9]])\n",
    "print('A = \\n{}'.format(A))\n",
    "\n",
    "# Array indexing\n",
    "print('\\n# --- Indexing\\n')\n",
    "x = A[-1,2] # = A[2,2]\n",
    "print('A[-1,2] = {}'.format(x))\n",
    "\n",
    "# Array slicing\n",
    "S = A[0:3:2,0:2] # select 1 row out of 2 and the 2 first columns\n",
    "print('\\n# --- Slicing \\n')\n",
    "print('S = \\n{}'.format(S))\n",
    "\n",
    "# Extract rows / columns\n",
    "r = A[1,:] # extract the first row\n",
    "c = A[:,1] # extract the firth column\n",
    "print('\\n# --- Specific case of slicing: row / column extraction \\n')\n",
    "print('r = {}'.format(r))\n",
    "print('c = {}'.format(c))\n",
    "\n",
    "# Change the elements of an array\n",
    "print('\\n# --- Assigning values to an array \\n')\n",
    "A[1,2] = 0\n",
    "print('A = \\n{}\\n'.format(A))\n",
    "\n",
    "A = np.array([[1,2,3],[4,5,6],[7,8,9]])\n",
    "A[0:3:2,0:2] = 0\n",
    "print('A = \\n{}'.format(A))\n",
    "\n",
    "# Array iterating\n",
    "print('\\n# --- Iteration over the array rows \\n')\n",
    "for row in A:\n",
    "    print(row)"
   ]
  },
  {
   "cell_type": "markdown",
   "metadata": {},
   "source": [
    "You can also use masks (boolean arrays) to easily select the matrix elements that satisfies a conditional statement."
   ]
  },
  {
   "cell_type": "code",
   "execution_count": 22,
   "metadata": {},
   "outputs": [
    {
     "name": "stdout",
     "output_type": "stream",
     "text": [
      "A = \n",
      "[[1 4 3]\n",
      " [2 5 6]\n",
      " [7 1 3]]\n",
      "\n",
      "mask = \n",
      "[[False  True False]\n",
      " [False  True False]\n",
      " [False False False]]\n",
      "\n",
      "A = \n",
      "[[1 0 3]\n",
      " [2 0 6]\n",
      " [7 1 3]]\n",
      "\n"
     ]
    }
   ],
   "source": [
    "A = np.array([[1,4,3],[2,5,6],[7,1,3]])\n",
    "\n",
    "mask = (A > 3) & (A < 6) # Select elements between 3 and 6\n",
    "print('A = \\n{}\\n'.format(A))\n",
    "print('mask = \\n{}\\n'.format(mask))\n",
    "\n",
    "A[mask] = 0\n",
    "print('A = \\n{}\\n'.format(A))"
   ]
  },
  {
   "cell_type": "markdown",
   "metadata": {},
   "source": [
    "### Shape manipulation"
   ]
  },
  {
   "cell_type": "markdown",
   "metadata": {},
   "source": [
    "The shape of an array `A` is given by `A.shape`."
   ]
  },
  {
   "cell_type": "code",
   "execution_count": 23,
   "metadata": {},
   "outputs": [
    {
     "name": "stdout",
     "output_type": "stream",
     "text": [
      "A = \n",
      "[[1 4 3]\n",
      " [2 5 6]]\n",
      "\n",
      "Shape: (2, 3)\n"
     ]
    }
   ],
   "source": [
    "A = np.array([[1,4,3],[2,5,6]])\n",
    "print('A = \\n{}\\n'.format(A))\n",
    "\n",
    "shape = A.shape\n",
    "print('Shape: {}'.format(shape)) # 2 rows and 3 columns"
   ]
  },
  {
   "cell_type": "markdown",
   "metadata": {},
   "source": [
    "Here is a non-exhaustive list of numpy functions that can be use to change the shape and structure of an array:\n",
    "\n",
    "- `A.ravel()`, returns a flattened 1D array containing the elements of `A`. It doesn't modify `A`."
   ]
  },
  {
   "cell_type": "code",
   "execution_count": 25,
   "metadata": {
    "scrolled": true
   },
   "outputs": [
    {
     "name": "stdout",
     "output_type": "stream",
     "text": [
      "A = \n",
      "[[1 4 3]\n",
      " [2 5 6]]\n",
      "\n",
      "flattened_A = [1 4 3 2 5 6]\n"
     ]
    }
   ],
   "source": [
    "A = np.array([[1,4,3],[2,5,6]])\n",
    "print('A = \\n{}\\n'.format(A))\n",
    "\n",
    "flattened_A = A.ravel()\n",
    "print('flattened_A = {}'.format(flattened_A))"
   ]
  },
  {
   "cell_type": "markdown",
   "metadata": {},
   "source": [
    "- `A.reshape(new_shape)`, returns a reshaped version of `A` whose shape = `new_shape`. The new shape must be consistent with the size of the array. It doesn't modify `A`."
   ]
  },
  {
   "cell_type": "code",
   "execution_count": 27,
   "metadata": {},
   "outputs": [
    {
     "name": "stdout",
     "output_type": "stream",
     "text": [
      "A = \n",
      "[[1 4 3 5]\n",
      " [2 5 6 1]\n",
      " [0 3 7 4]]\n",
      "\n",
      "old shape = (3, 4)\n",
      "\n",
      "reshaped_A = \n",
      "[[1 4]\n",
      " [3 5]\n",
      " [2 5]\n",
      " [6 1]\n",
      " [0 3]\n",
      " [7 4]]\n",
      "\n",
      "new shape = (6, 2)\n",
      "\n"
     ]
    }
   ],
   "source": [
    "A = np.array([[1,4,3,5],[2,5,6,1],[0,3,7,4]])\n",
    "print('A = \\n{}\\n'.format(A))\n",
    "print('old shape = {}\\n'.format(A.shape))\n",
    "\n",
    "reshaped_A = A.reshape((6,2))\n",
    "print('reshaped_A = \\n{}\\n'.format(reshaped_A))\n",
    "print('new shape = {}\\n'.format(reshaped_A.shape))"
   ]
  },
  {
   "cell_type": "markdown",
   "metadata": {},
   "source": [
    "- `A.T` returns the transpose of `A`. It doesn't modify `A`."
   ]
  },
  {
   "cell_type": "code",
   "execution_count": 29,
   "metadata": {
    "scrolled": false
   },
   "outputs": [
    {
     "name": "stdout",
     "output_type": "stream",
     "text": [
      "A = \n",
      "[[1 4 3]\n",
      " [2 5 6]]\n",
      "\n",
      "transpose_A = \n",
      "[[1 2]\n",
      " [4 5]\n",
      " [3 6]]\n"
     ]
    }
   ],
   "source": [
    "A = np.array([[1,4,3],[2,5,6]])\n",
    "print('A = \\n{}\\n'.format(A))\n",
    "\n",
    "transpose_A = A.T\n",
    "print('transpose_A = \\n{}'.format(transpose_A))"
   ]
  },
  {
   "cell_type": "markdown",
   "metadata": {},
   "source": [
    "See also [numpy.swapaxes](https://docs.scipy.org/doc/numpy/reference/generated/numpy.swapaxes.html#numpy.swapaxes)"
   ]
  },
  {
   "cell_type": "markdown",
   "metadata": {},
   "source": [
    "### Stacking together different arrays"
   ]
  },
  {
   "cell_type": "markdown",
   "metadata": {},
   "source": [
    "- `np.hstack((A,B))` stacks two arrays `A` and `B` along the horizontal direction\n",
    "- `np.vstack((A,B))` stacks two arrays `A` and `B` along the vertical direction"
   ]
  },
  {
   "cell_type": "code",
   "execution_count": 37,
   "metadata": {},
   "outputs": [
    {
     "name": "stdout",
     "output_type": "stream",
     "text": [
      "A = [1 2]\n",
      "B = [3 4]\n",
      "\n",
      "# --- Horizontal stack \n",
      "\n",
      "C_h = [1 2 3 4]\n",
      "\n",
      "# --- Vertical stack \n",
      "\n",
      "C_v = \n",
      "[[1 2]\n",
      " [3 4]]\n"
     ]
    }
   ],
   "source": [
    "A = np.array([1,2])\n",
    "B = np.array([3,4])\n",
    "print('A = {}'.format(A))\n",
    "print('B = {}'.format(B))\n",
    "\n",
    "# Horizontal stack\n",
    "C_h = np.hstack((A,B))\n",
    "print('\\n# --- Horizontal stack \\n')\n",
    "print('C_h = {}'.format(C_h))\n",
    "\n",
    "# Vertical stack\n",
    "C_v = np.vstack((A,B))\n",
    "print('\\n# --- Vertical stack \\n')\n",
    "print('C_v = \\n{}'.format(C_v))"
   ]
  },
  {
   "cell_type": "markdown",
   "metadata": {},
   "source": [
    "### Splitting an array into smaller ones"
   ]
  },
  {
   "cell_type": "markdown",
   "metadata": {},
   "source": [
    "- `np.hsplit(A,n)` splits an array `A` in `n` pieces along the horizontal direction, output type = list\n",
    "- `np.vsplit(A,n)` splits an array `A` in `n` pieces along the vertical direction, output type = list"
   ]
  },
  {
   "cell_type": "code",
   "execution_count": 39,
   "metadata": {},
   "outputs": [
    {
     "name": "stdout",
     "output_type": "stream",
     "text": [
      "A = \n",
      "[[ 0  1  2  3  4  5]\n",
      " [ 6  7  8  9 10 11]]\n",
      "\n",
      "# --- Horizontal split \n",
      "\n",
      "C_h[0] = \n",
      "[[0 1]\n",
      " [6 7]]\n",
      "\n",
      "C_h[1] = \n",
      "[[2 3]\n",
      " [8 9]]\n",
      "\n",
      "C_h[2] = \n",
      "[[ 4  5]\n",
      " [10 11]]\n",
      "\n",
      "A = \n",
      "[[ 0  1  2]\n",
      " [ 3  4  5]\n",
      " [ 6  7  8]\n",
      " [ 9 10 11]]\n",
      "\n",
      "# --- Vertical stack \n",
      "\n",
      "C_v[0] = \n",
      "[[0 1 2]\n",
      " [3 4 5]]\n",
      "\n",
      "C_v[1] = \n",
      "[[ 6  7  8]\n",
      " [ 9 10 11]]\n",
      "\n"
     ]
    }
   ],
   "source": [
    "A = np.arange(12).reshape((2,6))\n",
    "print('A = \\n{}'.format(A))\n",
    "\n",
    "# Horizontal split\n",
    "C_h = np.hsplit(A,3)\n",
    "print('\\n# --- Horizontal split \\n')\n",
    "for k in range(3):\n",
    "    print('C_h[{}] = \\n{}\\n'.format(k,C_h[k]))\n",
    "\n",
    "\n",
    "A = np.arange(12).reshape((4,3))\n",
    "print('A = \\n{}'.format(A))\n",
    "\n",
    "# Vertical split\n",
    "C_v = np.vsplit(A,2)\n",
    "print('\\n# --- Vertical stack \\n')\n",
    "for k in range(2):\n",
    "    print('C_v[{}] = \\n{}\\n'.format(k,C_v[k]))"
   ]
  },
  {
   "cell_type": "markdown",
   "metadata": {},
   "source": [
    "See also [numpy.concatenate](https://docs.scipy.org/doc/numpy/reference/generated/numpy.concatenate.html), [numpy.column_stack](https://docs.scipy.org/doc/numpy/reference/generated/numpy.column_stack.html), [numpy.repeat](https://docs.scipy.org/doc/numpy/reference/generated/numpy.repeat.html#numpy.repeat)"
   ]
  },
  {
   "cell_type": "markdown",
   "metadata": {},
   "source": [
    "### Array copies"
   ]
  },
  {
   "cell_type": "code",
   "execution_count": 40,
   "metadata": {},
   "outputs": [
    {
     "name": "stdout",
     "output_type": "stream",
     "text": [
      "\n",
      "# --- Before modification \n",
      "\n",
      "A = \n",
      "[[ 0  1  2  3]\n",
      " [ 4  5  6  7]\n",
      " [ 8  9 10 11]]\n",
      "B = \n",
      "[[ 0  1  2  3]\n",
      " [ 4  5  6  7]\n",
      " [ 8  9 10 11]]\n",
      "C = \n",
      "[[ 0  1  2  3]\n",
      " [ 4  5  6  7]\n",
      " [ 8  9 10 11]]\n",
      "\n",
      "# --- After modification \n",
      "\n",
      "A = \n",
      "[[100   1   2   3]\n",
      " [  4   5   6   7]\n",
      " [  8   9  10  11]]\n",
      "B = \n",
      "[[100   1   2   3]\n",
      " [  4   5   6   7]\n",
      " [  8   9  10  11]]\n",
      "C = \n",
      "[[ 0  1  2  3]\n",
      " [ 4  5  6  7]\n",
      " [ 8  9 10 11]]\n"
     ]
    }
   ],
   "source": [
    "A = np.arange(12).reshape((3,4))\n",
    "B = A\n",
    "C = A.copy()\n",
    "print('\\n# --- Before modification \\n')\n",
    "print('A = \\n{}'.format(A))\n",
    "print('B = \\n{}'.format(B))\n",
    "print('C = \\n{}'.format(C))\n",
    "\n",
    "\n",
    "\n",
    "A[0,0] = 100\n",
    "print('\\n# --- After modification \\n')\n",
    "print('A = \\n{}'.format(A))\n",
    "print('B = \\n{}'.format(B))\n",
    "print('C = \\n{}'.format(C))"
   ]
  },
  {
   "cell_type": "markdown",
   "metadata": {},
   "source": [
    "### Reading text files with Numpy\n",
    "\n",
    "The function `np.genfromtxt(filename)` allows you to read numerical data from a text file (`filename`) and returns numpy array containing the data.\n",
    "This function supports the following parameters:\n",
    "\n",
    "- `comments`, string, the character used to identify comments and discard them. Default `comments = #`.\n",
    "- `delimiter`, string, the character used to separate values in the text file. By default any number of whitespaces act as a delimiter.\n",
    "- `skip_header`, int, the number of lines to skip at the beginning of the file\n",
    "- `skip_footer`, int, the number of lines to skip at the end of the file.\n",
    "- `use_cols`, tuple, the index of the columns to extract. For instance `use_cols = (1, 4, 5)` will extract the 2nd, 5th and 6th columns.\n",
    "\n",
    "Doc: https://docs.scipy.org/doc/numpy/reference/generated/numpy.genfromtxt.html"
   ]
  },
  {
   "cell_type": "code",
   "execution_count": 10,
   "metadata": {
    "scrolled": true
   },
   "outputs": [
    {
     "name": "stdout",
     "output_type": "stream",
     "text": [
      "(407015, 3)\n"
     ]
    }
   ],
   "source": [
    "X = np.genfromtxt('./data/experimental_data_1.txt')"
   ]
  },
  {
   "cell_type": "code",
   "execution_count": 30,
   "metadata": {},
   "outputs": [],
   "source": [
    "mask = (X[:,0] == -20)\n",
    "n_sigma = np.sum(mask)\n",
    "n_tot = len(Z)\n",
    "n_spectra = n_tot // n_sigma\n",
    "spectra = np.vsplit(X,n_spectra)"
   ]
  },
  {
   "cell_type": "code",
   "execution_count": 29,
   "metadata": {
    "scrolled": false
   },
   "outputs": [
    {
     "data": {
      "image/png": "[encoded data removed]",
      "text/plain": [
       "<Figure size 720x480 with 1 Axes>"
      ]
     },
     "metadata": {},
     "output_type": "display_data"
    }
   ],
   "source": [
    "# i-th spectra\n",
    "i = 201\n",
    "spectrum_1 = spectra[i]\n",
    "z = spectrum_1[0,0]\n",
    "sigma = spectrum_1[:,1]\n",
    "counts = spectrum_1[:,2]\n",
    "\n",
    "import matplotlib.pyplot as plt\n",
    "plt.figure(dpi=120)\n",
    "plt.plot(sigma,counts)\n",
    "plt.xlabel('sigma')\n",
    "plt.ylabel('counts')\n",
    "plt.title('Raman spectrum of Germanium')\n",
    "plt.show()"
   ]
  },
  {
   "cell_type": "markdown",
   "metadata": {},
   "source": [
    "### Saving arrays to text with Numpy\n",
    "\n",
    "Use `np.savetxt(filename,X)` to export the 1D or 2D numpy array `X` to the text file `filename`.\n",
    "It supports the following parameters:\n",
    "- `delimiter`, string, the character that will separate columns in the text file.\n",
    "- `header`, string, the comment that will be written at the top of the file.\n",
    "- `footer`, string, the comment that will be written at the bottom of the file."
   ]
  },
  {
   "cell_type": "code",
   "execution_count": 32,
   "metadata": {},
   "outputs": [],
   "source": [
    "np.savetxt('./data/raman_spectrum.txt', spectrum_1, header='Z, sigma, counts')"
   ]
  },
  {
   "cell_type": "markdown",
   "metadata": {},
   "source": [
    "### Functions and methods overview"
   ]
  },
  {
   "cell_type": "markdown",
   "metadata": {},
   "source": [
    "https://docs.scipy.org/doc/numpy/user/quickstart.html#functions-and-methods-overview"
   ]
  }
 ],
 "metadata": {
  "kernelspec": {
   "display_name": "Python 3",
   "language": "python",
   "name": "python3"
  },
  "language_info": {
   "codemirror_mode": {
    "name": "ipython",
    "version": 3
   },
   "file_extension": ".py",
   "mimetype": "text/x-python",
   "name": "python",
   "nbconvert_exporter": "python",
   "pygments_lexer": "ipython3",
   "version": "3.6.5"
  }
 },
 "nbformat": 4,
 "nbformat_minor": 2
}
