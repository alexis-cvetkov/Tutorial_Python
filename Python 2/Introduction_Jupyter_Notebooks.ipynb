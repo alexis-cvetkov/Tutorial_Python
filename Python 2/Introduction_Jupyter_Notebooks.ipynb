{
 "cells": [
  {
   "cell_type": "markdown",
   "metadata": {},
   "source": [
    "# <center> Introduction to Jupyter notebooks </center>\n",
    "\n",
    "Jupyter notebooks are a very nice way to organize and present your code alongside text and images.\n",
    "\n",
    "## 1. Jupyter navigator\n",
    "\n",
    "The Jupyter navigator is a file browser where you can manipulate jupyter notebooks (**.ipynb** extension).\n",
    "\n",
    "<img src=\"../images/jupyter_navigator.png\" style=\"width: 800px;\"/>\n",
    "<center> Jupyter navigator. </center>\n",
    "\n",
    "## 2. Overview of the notebook interface\n",
    "\n",
    "A notebook is made of a menu, a toolbar and multiple cells containing Python code, text, images, LateX equations...\n",
    "\n",
    "<img src=\"../images/overview_new_notebook.png\" style=\"width: 800px;\"/>\n",
    "<center> Overview of a notebook. </center>\n",
    "\n",
    "**Menu:**\n",
    "\n",
    "- File -> Create, open, save and export (html, pdf) notebooks.\n",
    "- Edit, Insert, Cell -> Create, copy, edit and run cells, insert images.\n",
    "- Kernel -> Interrupt, restart the kernel (the core program that allows you tu use Python / Markdown).\n",
    "- Help -> Documentation, Shortcuts.\n",
    "\n",
    "**Toolbar**: provides buttons for the basic commands of the menu (restart kernel, change cell type).\n",
    "\n",
    "**Cells:**\n",
    "\n",
    "- Two main types of cells -> <font color = \"blue\">Markdown</font> (to write text) and <font color = \"blue\">Code</font> (to write and execute Python code). The current type of a cell can be changed in the toolbar.\n",
    "\n",
    "- Two modes -> use the <font color = \"blue\">Edit mode</font> to edit the content of the cell and the <font color = \"blue\">Command mode</font> to perform operations on the cells (delete, create, execute cells...).\n",
    "\n",
    "- You can enter the Edit mode with a single click on the content of the cell (you might need to double-click on text cells to see the Markdown code behind). A green border should then appear around the cell.\n",
    "\n",
    "- You can enter the Command mode with a single-click on the side of the cell. A blue border should then appear around the cell.\n",
    "- Shorcut: to switch between the Edit and Command mode, use `Enter` / `Esc`."
   ]
  },
  {
   "cell_type": "code",
   "execution_count": 1,
   "metadata": {},
   "outputs": [
    {
     "name": "stdout",
     "output_type": "stream",
     "text": [
      "7\n"
     ]
    }
   ],
   "source": [
    "# Python cell\n",
    "a = 7\n",
    "print(a)"
   ]
  },
  {
   "cell_type": "markdown",
   "metadata": {},
   "source": [
    "### Markdown cell\n",
    "\n",
    "Insert text here."
   ]
  },
  {
   "cell_type": "markdown",
   "metadata": {},
   "source": [
    "- Run cells with `Ctrl + Enter` or `Shift + Enter`. According to the cell type, it will execute Python code or display the text encoded in Markdown."
   ]
  },
  {
   "cell_type": "markdown",
   "metadata": {},
   "source": [
    "- In command mode, navigate through the cells with `up`/`k`, `down`/`j`\n",
    "- Saving the notebook: `s`\n",
    "- Change cell types: `y` (Python), `m` (Markdown)\n",
    "- Cell creation above / below: `a`, `b`. A new cell is by default a Python cell.\n",
    "- Cell editing: `x` (cut), `c` (copy), `v` (paste below), `d` (press the key twice to delete the cell), `z` (undo cell deletion).\n",
    "- Display all shortcuts: `h`\n",
    "\n",
    "**Documentation:** \n",
    "\n",
    "- https://nbviewer.jupyter.org/github/ipython/ipython/blob/3.x/examples/Notebook/Notebook%20Basics.ipynb\n",
    "- Help menu"
   ]
  },
  {
   "cell_type": "markdown",
   "metadata": {},
   "source": [
    "### Example: Markdown syntax\n",
    "\n",
    "# TITLE\n",
    "## MEDIUM TITLE\n",
    "### SMALL TITLE\n",
    "\n",
    "In Markdown you can write **bold text**, *italic text*, add images and links. The Markdown cells in Jupyter notebooks also handle html syntax pretty well.\n",
    "\n",
    "<img src=\"../images/logo.jpeg\" style=\"width: 500px;\"/>\n",
    "<center> Figure 1 : Python logo. </center>\n",
    "\n",
    "More information about the Markdown syntax here: [Basic Markdown syntax](https://github.com/adam-p/markdown-here/wiki/Markdown-Cheatsheet#images)"
   ]
  },
  {
   "cell_type": "markdown",
   "metadata": {},
   "source": [
    "### Exercise:\n",
    "\n",
    "Create a new notebook that you in `Formation_Python/Exercises` and rename it. Try to perform the following operations using shortcuts or the toolbar/menu:\n",
    "\n",
    "- Create a Markdown cell (ideally with titles of differents sizes, bold text, lists...) and run it.\n",
    "- Copy and paste this cell.\n",
    "- Insert between the two text cells a Python cell with some code (`print(1 + 1)` for instance) and run it.\n",
    "- Delete the copy of the Mardown cell.\n",
    "- Save the notebook and close it."
   ]
  }
 ],
 "metadata": {
  "kernelspec": {
   "display_name": "Python 3",
   "language": "python",
   "name": "python3"
  },
  "language_info": {
   "codemirror_mode": {
    "name": "ipython",
    "version": 3
   },
   "file_extension": ".py",
   "mimetype": "text/x-python",
   "name": "python",
   "nbconvert_exporter": "python",
   "pygments_lexer": "ipython3",
   "version": "3.6.5"
  }
 },
 "nbformat": 4,
 "nbformat_minor": 2
}
